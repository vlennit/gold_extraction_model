{
 "cells": [
  {
   "cell_type": "markdown",
   "id": "4a75d720",
   "metadata": {},
   "source": [
    "# <a id='toc1_'></a>[Prototipo de modelo de machine learning para Zyfra](#toc0_)"
   ]
  },
  {
   "cell_type": "markdown",
   "id": "d01391a7",
   "metadata": {},
   "source": [
    "**Table of contents**<a id='toc0_'></a>    \n",
    "- [Prototipo de modelo de machine learning para Zyfra](#toc1_)    \n",
    "  - [Introducción](#toc1_1_)    \n",
    "  - [Carga de archivos y librerías](#toc1_2_)    \n",
    "  - [Vista General de los datos](#toc1_3_)    \n",
    "  - [Exploración de los datos](#toc1_4_)    \n",
    "    - [Cálculo de recuperación y EAM](#toc1_4_1_)    \n",
    "    - [Caracteristicas no disponibles en el conjunto de prueba](#toc1_4_2_)    \n",
    "    - [Preprocesamiento de datos](#toc1_4_3_)    \n",
    "    - [Analizando los datos](#toc1_4_4_)    \n",
    "  - [Construyendo el modelo](#toc1_5_)    \n",
    "    - [Evaluando modelo final](#toc1_5_1_)    \n",
    "  - [Conclusiones finales](#toc1_6_)    \n",
    "\n",
    "<!-- vscode-jupyter-toc-config\n",
    "\tnumbering=false\n",
    "\tanchor=true\n",
    "\tflat=false\n",
    "\tminLevel=1\n",
    "\tmaxLevel=6\n",
    "\t/vscode-jupyter-toc-config -->\n",
    "<!-- THIS CELL WILL BE REPLACED ON TOC UPDATE. DO NOT WRITE YOUR TEXT IN THIS CELL -->"
   ]
  },
  {
   "cell_type": "markdown",
   "id": "32723759",
   "metadata": {},
   "source": [
    "## <a id='toc1_1_'></a>[Introducción](#toc0_)"
   ]
  },
  {
   "cell_type": "markdown",
   "id": "6d86f3b9",
   "metadata": {},
   "source": [
    "A continuación vamos a construir un modelo debe predecir la cantidad de oro extraído del mineral de oro. El modelo ayudará a optimizar la producción y a eliminar los parámetros no rentables. La métrica con la que evaluaremos nuestro modelo será el *sMAPE* para cada variable objetivo, teniendo una métrica final *sMAPE final*."
   ]
  },
  {
   "cell_type": "markdown",
   "id": "4df9b6b3",
   "metadata": {},
   "source": [
    "## <a id='toc1_2_'></a>[Carga de archivos y librerías](#toc0_)"
   ]
  },
  {
   "cell_type": "code",
   "execution_count": 1,
   "id": "c27ef84c",
   "metadata": {},
   "outputs": [],
   "source": [
    "import pandas as pd\n",
    "import matplotlib.pyplot as plt\n",
    "import numpy as np\n",
    "\n",
    "from IPython.display import display\n",
    "\n",
    "from sklearn.metrics import mean_absolute_error\n",
    "from sklearn.preprocessing import StandardScaler\n",
    "from sklearn.metrics import make_scorer\n",
    "from sklearn.model_selection import cross_val_score, cross_validate\n",
    "from sklearn.tree import DecisionTreeRegressor\n",
    "from sklearn.ensemble import RandomForestRegressor"
   ]
  },
  {
   "cell_type": "code",
   "execution_count": 2,
   "id": "c45676ae",
   "metadata": {},
   "outputs": [],
   "source": [
    "data_train = pd.read_csv('/datasets/gold_recovery_train.csv')\n",
    "data_test = pd.read_csv('/datasets/gold_recovery_test.csv')\n",
    "data_full = pd.read_csv('/datasets/gold_recovery_full.csv')"
   ]
  },
  {
   "cell_type": "code",
   "execution_count": 3,
   "id": "73df467c",
   "metadata": {},
   "outputs": [],
   "source": [
    "RANDOM_STATE = 54321"
   ]
  },
  {
   "cell_type": "markdown",
   "id": "e7ed608e",
   "metadata": {},
   "source": [
    "## <a id='toc1_3_'></a>[Vista General de los datos](#toc0_)"
   ]
  },
  {
   "cell_type": "code",
   "execution_count": 4,
   "id": "1482cd97",
   "metadata": {},
   "outputs": [],
   "source": [
    "def overview_data(_data):\n",
    "    shape = _data.shape\n",
    "    na_values_count = ((_data.isna().sum()[_data.isna().sum() > 0]).sort_values(ascending=False))\n",
    "    na_values_proportion = ((_data.isna().mean()[_data.isna().sum() > 0]).sort_values(ascending=False)).apply(lambda x: f'{x:0.2%}')\n",
    "    na_values = pd.DataFrame(\n",
    "        {\"Count\": na_values_count, \"Proportion\": na_values_proportion}\n",
    "    )\n",
    "    dtypes = _data.dtypes.value_counts()\n",
    "    print('Tamaño:', shape, end='\\n-----------\\n\\n')\n",
    "    print(f'Tipos de dato: \\n\\n{dtypes}', end='\\n-----------\\n\\n')\n",
    "    print(f'Valores ausentes: \\n{na_values.head(20)}', end='\\n-----------\\n')\n",
    "    display(_data.head())"
   ]
  },
  {
   "cell_type": "code",
   "execution_count": 5,
   "id": "a495c263",
   "metadata": {
    "scrolled": false
   },
   "outputs": [
    {
     "name": "stdout",
     "output_type": "stream",
     "text": [
      "Tamaño: (16860, 87)\n",
      "-----------\n",
      "\n",
      "Tipos de dato: \n",
      "\n",
      "float64    86\n",
      "object      1\n",
      "dtype: int64\n",
      "-----------\n",
      "\n",
      "Valores ausentes: \n",
      "                                          Count Proportion\n",
      "rougher.output.recovery                    2573     15.26%\n",
      "rougher.output.tail_ag                     2250     13.35%\n",
      "rougher.output.tail_au                     2249     13.34%\n",
      "rougher.output.tail_sol                    2249     13.34%\n",
      "secondary_cleaner.output.tail_sol          1986     11.78%\n",
      "rougher.input.floatbank11_xanthate         1904     11.29%\n",
      "final.output.recovery                      1521      9.02%\n",
      "primary_cleaner.input.sulfate              1307      7.75%\n",
      "primary_cleaner.input.depressant           1262      7.49%\n",
      "rougher.calculation.au_pb_ratio            1242      7.37%\n",
      "rougher.input.floatbank10_sulfate          1044      6.19%\n",
      "primary_cleaner.input.xanthate              985      5.84%\n",
      "primary_cleaner.output.concentrate_sol      636      3.77%\n",
      "rougher.input.floatbank11_sulfate           623      3.70%\n",
      "rougher.state.floatbank10_e_air             603      3.58%\n",
      "rougher.input.feed_rate                     513      3.04%\n",
      "rougher.input.feed_size                     417      2.47%\n",
      "final.output.concentrate_sol                370      2.19%\n",
      "secondary_cleaner.state.floatbank2_a_air    363      2.15%\n",
      "primary_cleaner.output.concentrate_pb       358      2.12%\n",
      "-----------\n"
     ]
    },
    {
     "data": {
      "text/html": [
       "<div>\n",
       "<style scoped>\n",
       "    .dataframe tbody tr th:only-of-type {\n",
       "        vertical-align: middle;\n",
       "    }\n",
       "\n",
       "    .dataframe tbody tr th {\n",
       "        vertical-align: top;\n",
       "    }\n",
       "\n",
       "    .dataframe thead th {\n",
       "        text-align: right;\n",
       "    }\n",
       "</style>\n",
       "<table border=\"1\" class=\"dataframe\">\n",
       "  <thead>\n",
       "    <tr style=\"text-align: right;\">\n",
       "      <th></th>\n",
       "      <th>date</th>\n",
       "      <th>final.output.concentrate_ag</th>\n",
       "      <th>final.output.concentrate_pb</th>\n",
       "      <th>final.output.concentrate_sol</th>\n",
       "      <th>final.output.concentrate_au</th>\n",
       "      <th>final.output.recovery</th>\n",
       "      <th>final.output.tail_ag</th>\n",
       "      <th>final.output.tail_pb</th>\n",
       "      <th>final.output.tail_sol</th>\n",
       "      <th>final.output.tail_au</th>\n",
       "      <th>...</th>\n",
       "      <th>secondary_cleaner.state.floatbank4_a_air</th>\n",
       "      <th>secondary_cleaner.state.floatbank4_a_level</th>\n",
       "      <th>secondary_cleaner.state.floatbank4_b_air</th>\n",
       "      <th>secondary_cleaner.state.floatbank4_b_level</th>\n",
       "      <th>secondary_cleaner.state.floatbank5_a_air</th>\n",
       "      <th>secondary_cleaner.state.floatbank5_a_level</th>\n",
       "      <th>secondary_cleaner.state.floatbank5_b_air</th>\n",
       "      <th>secondary_cleaner.state.floatbank5_b_level</th>\n",
       "      <th>secondary_cleaner.state.floatbank6_a_air</th>\n",
       "      <th>secondary_cleaner.state.floatbank6_a_level</th>\n",
       "    </tr>\n",
       "  </thead>\n",
       "  <tbody>\n",
       "    <tr>\n",
       "      <th>0</th>\n",
       "      <td>2016-01-15 00:00:00</td>\n",
       "      <td>6.055403</td>\n",
       "      <td>9.889648</td>\n",
       "      <td>5.507324</td>\n",
       "      <td>42.192020</td>\n",
       "      <td>70.541216</td>\n",
       "      <td>10.411962</td>\n",
       "      <td>0.895447</td>\n",
       "      <td>16.904297</td>\n",
       "      <td>2.143149</td>\n",
       "      <td>...</td>\n",
       "      <td>14.016835</td>\n",
       "      <td>-502.488007</td>\n",
       "      <td>12.099931</td>\n",
       "      <td>-504.715942</td>\n",
       "      <td>9.925633</td>\n",
       "      <td>-498.310211</td>\n",
       "      <td>8.079666</td>\n",
       "      <td>-500.470978</td>\n",
       "      <td>14.151341</td>\n",
       "      <td>-605.841980</td>\n",
       "    </tr>\n",
       "    <tr>\n",
       "      <th>1</th>\n",
       "      <td>2016-01-15 01:00:00</td>\n",
       "      <td>6.029369</td>\n",
       "      <td>9.968944</td>\n",
       "      <td>5.257781</td>\n",
       "      <td>42.701629</td>\n",
       "      <td>69.266198</td>\n",
       "      <td>10.462676</td>\n",
       "      <td>0.927452</td>\n",
       "      <td>16.634514</td>\n",
       "      <td>2.224930</td>\n",
       "      <td>...</td>\n",
       "      <td>13.992281</td>\n",
       "      <td>-505.503262</td>\n",
       "      <td>11.950531</td>\n",
       "      <td>-501.331529</td>\n",
       "      <td>10.039245</td>\n",
       "      <td>-500.169983</td>\n",
       "      <td>7.984757</td>\n",
       "      <td>-500.582168</td>\n",
       "      <td>13.998353</td>\n",
       "      <td>-599.787184</td>\n",
       "    </tr>\n",
       "    <tr>\n",
       "      <th>2</th>\n",
       "      <td>2016-01-15 02:00:00</td>\n",
       "      <td>6.055926</td>\n",
       "      <td>10.213995</td>\n",
       "      <td>5.383759</td>\n",
       "      <td>42.657501</td>\n",
       "      <td>68.116445</td>\n",
       "      <td>10.507046</td>\n",
       "      <td>0.953716</td>\n",
       "      <td>16.208849</td>\n",
       "      <td>2.257889</td>\n",
       "      <td>...</td>\n",
       "      <td>14.015015</td>\n",
       "      <td>-502.520901</td>\n",
       "      <td>11.912783</td>\n",
       "      <td>-501.133383</td>\n",
       "      <td>10.070913</td>\n",
       "      <td>-500.129135</td>\n",
       "      <td>8.013877</td>\n",
       "      <td>-500.517572</td>\n",
       "      <td>14.028663</td>\n",
       "      <td>-601.427363</td>\n",
       "    </tr>\n",
       "    <tr>\n",
       "      <th>3</th>\n",
       "      <td>2016-01-15 03:00:00</td>\n",
       "      <td>6.047977</td>\n",
       "      <td>9.977019</td>\n",
       "      <td>4.858634</td>\n",
       "      <td>42.689819</td>\n",
       "      <td>68.347543</td>\n",
       "      <td>10.422762</td>\n",
       "      <td>0.883763</td>\n",
       "      <td>16.532835</td>\n",
       "      <td>2.146849</td>\n",
       "      <td>...</td>\n",
       "      <td>14.036510</td>\n",
       "      <td>-500.857308</td>\n",
       "      <td>11.999550</td>\n",
       "      <td>-501.193686</td>\n",
       "      <td>9.970366</td>\n",
       "      <td>-499.201640</td>\n",
       "      <td>7.977324</td>\n",
       "      <td>-500.255908</td>\n",
       "      <td>14.005551</td>\n",
       "      <td>-599.996129</td>\n",
       "    </tr>\n",
       "    <tr>\n",
       "      <th>4</th>\n",
       "      <td>2016-01-15 04:00:00</td>\n",
       "      <td>6.148599</td>\n",
       "      <td>10.142511</td>\n",
       "      <td>4.939416</td>\n",
       "      <td>42.774141</td>\n",
       "      <td>66.927016</td>\n",
       "      <td>10.360302</td>\n",
       "      <td>0.792826</td>\n",
       "      <td>16.525686</td>\n",
       "      <td>2.055292</td>\n",
       "      <td>...</td>\n",
       "      <td>14.027298</td>\n",
       "      <td>-499.838632</td>\n",
       "      <td>11.953070</td>\n",
       "      <td>-501.053894</td>\n",
       "      <td>9.925709</td>\n",
       "      <td>-501.686727</td>\n",
       "      <td>7.894242</td>\n",
       "      <td>-500.356035</td>\n",
       "      <td>13.996647</td>\n",
       "      <td>-601.496691</td>\n",
       "    </tr>\n",
       "  </tbody>\n",
       "</table>\n",
       "<p>5 rows × 87 columns</p>\n",
       "</div>"
      ],
      "text/plain": [
       "                  date  final.output.concentrate_ag  \\\n",
       "0  2016-01-15 00:00:00                     6.055403   \n",
       "1  2016-01-15 01:00:00                     6.029369   \n",
       "2  2016-01-15 02:00:00                     6.055926   \n",
       "3  2016-01-15 03:00:00                     6.047977   \n",
       "4  2016-01-15 04:00:00                     6.148599   \n",
       "\n",
       "   final.output.concentrate_pb  final.output.concentrate_sol  \\\n",
       "0                     9.889648                      5.507324   \n",
       "1                     9.968944                      5.257781   \n",
       "2                    10.213995                      5.383759   \n",
       "3                     9.977019                      4.858634   \n",
       "4                    10.142511                      4.939416   \n",
       "\n",
       "   final.output.concentrate_au  final.output.recovery  final.output.tail_ag  \\\n",
       "0                    42.192020              70.541216             10.411962   \n",
       "1                    42.701629              69.266198             10.462676   \n",
       "2                    42.657501              68.116445             10.507046   \n",
       "3                    42.689819              68.347543             10.422762   \n",
       "4                    42.774141              66.927016             10.360302   \n",
       "\n",
       "   final.output.tail_pb  final.output.tail_sol  final.output.tail_au  ...  \\\n",
       "0              0.895447              16.904297              2.143149  ...   \n",
       "1              0.927452              16.634514              2.224930  ...   \n",
       "2              0.953716              16.208849              2.257889  ...   \n",
       "3              0.883763              16.532835              2.146849  ...   \n",
       "4              0.792826              16.525686              2.055292  ...   \n",
       "\n",
       "   secondary_cleaner.state.floatbank4_a_air  \\\n",
       "0                                 14.016835   \n",
       "1                                 13.992281   \n",
       "2                                 14.015015   \n",
       "3                                 14.036510   \n",
       "4                                 14.027298   \n",
       "\n",
       "   secondary_cleaner.state.floatbank4_a_level  \\\n",
       "0                                 -502.488007   \n",
       "1                                 -505.503262   \n",
       "2                                 -502.520901   \n",
       "3                                 -500.857308   \n",
       "4                                 -499.838632   \n",
       "\n",
       "   secondary_cleaner.state.floatbank4_b_air  \\\n",
       "0                                 12.099931   \n",
       "1                                 11.950531   \n",
       "2                                 11.912783   \n",
       "3                                 11.999550   \n",
       "4                                 11.953070   \n",
       "\n",
       "   secondary_cleaner.state.floatbank4_b_level  \\\n",
       "0                                 -504.715942   \n",
       "1                                 -501.331529   \n",
       "2                                 -501.133383   \n",
       "3                                 -501.193686   \n",
       "4                                 -501.053894   \n",
       "\n",
       "   secondary_cleaner.state.floatbank5_a_air  \\\n",
       "0                                  9.925633   \n",
       "1                                 10.039245   \n",
       "2                                 10.070913   \n",
       "3                                  9.970366   \n",
       "4                                  9.925709   \n",
       "\n",
       "   secondary_cleaner.state.floatbank5_a_level  \\\n",
       "0                                 -498.310211   \n",
       "1                                 -500.169983   \n",
       "2                                 -500.129135   \n",
       "3                                 -499.201640   \n",
       "4                                 -501.686727   \n",
       "\n",
       "   secondary_cleaner.state.floatbank5_b_air  \\\n",
       "0                                  8.079666   \n",
       "1                                  7.984757   \n",
       "2                                  8.013877   \n",
       "3                                  7.977324   \n",
       "4                                  7.894242   \n",
       "\n",
       "   secondary_cleaner.state.floatbank5_b_level  \\\n",
       "0                                 -500.470978   \n",
       "1                                 -500.582168   \n",
       "2                                 -500.517572   \n",
       "3                                 -500.255908   \n",
       "4                                 -500.356035   \n",
       "\n",
       "   secondary_cleaner.state.floatbank6_a_air  \\\n",
       "0                                 14.151341   \n",
       "1                                 13.998353   \n",
       "2                                 14.028663   \n",
       "3                                 14.005551   \n",
       "4                                 13.996647   \n",
       "\n",
       "   secondary_cleaner.state.floatbank6_a_level  \n",
       "0                                 -605.841980  \n",
       "1                                 -599.787184  \n",
       "2                                 -601.427363  \n",
       "3                                 -599.996129  \n",
       "4                                 -601.496691  \n",
       "\n",
       "[5 rows x 87 columns]"
      ]
     },
     "metadata": {},
     "output_type": "display_data"
    }
   ],
   "source": [
    "overview_data(data_train)"
   ]
  },
  {
   "cell_type": "code",
   "execution_count": 6,
   "id": "a574be97",
   "metadata": {
    "scrolled": false
   },
   "outputs": [
    {
     "name": "stdout",
     "output_type": "stream",
     "text": [
      "Tamaño: (5856, 53)\n",
      "-----------\n",
      "\n",
      "Tipos de dato: \n",
      "\n",
      "float64    52\n",
      "object      1\n",
      "dtype: int64\n",
      "-----------\n",
      "\n",
      "Valores ausentes: \n",
      "                                          Count Proportion\n",
      "rougher.input.floatbank11_xanthate          353      6.03%\n",
      "primary_cleaner.input.sulfate               302      5.16%\n",
      "primary_cleaner.input.depressant            284      4.85%\n",
      "rougher.input.floatbank10_sulfate           257      4.39%\n",
      "primary_cleaner.input.xanthate              166      2.83%\n",
      "rougher.input.floatbank10_xanthate          123      2.10%\n",
      "rougher.input.feed_sol                       67      1.14%\n",
      "rougher.input.floatbank11_sulfate            55      0.94%\n",
      "rougher.input.feed_rate                      40      0.68%\n",
      "secondary_cleaner.state.floatbank3_a_air     34      0.58%\n",
      "secondary_cleaner.state.floatbank2_b_air     23      0.39%\n",
      "rougher.input.feed_size                      22      0.38%\n",
      "secondary_cleaner.state.floatbank2_a_air     20      0.34%\n",
      "rougher.state.floatbank10_f_air              17      0.29%\n",
      "rougher.state.floatbank10_e_air              17      0.29%\n",
      "rougher.state.floatbank10_d_air              17      0.29%\n",
      "rougher.state.floatbank10_b_air              17      0.29%\n",
      "rougher.state.floatbank10_a_air              17      0.29%\n",
      "rougher.state.floatbank10_c_air              17      0.29%\n",
      "rougher.input.feed_au                        16      0.27%\n",
      "-----------\n"
     ]
    },
    {
     "data": {
      "text/html": [
       "<div>\n",
       "<style scoped>\n",
       "    .dataframe tbody tr th:only-of-type {\n",
       "        vertical-align: middle;\n",
       "    }\n",
       "\n",
       "    .dataframe tbody tr th {\n",
       "        vertical-align: top;\n",
       "    }\n",
       "\n",
       "    .dataframe thead th {\n",
       "        text-align: right;\n",
       "    }\n",
       "</style>\n",
       "<table border=\"1\" class=\"dataframe\">\n",
       "  <thead>\n",
       "    <tr style=\"text-align: right;\">\n",
       "      <th></th>\n",
       "      <th>date</th>\n",
       "      <th>primary_cleaner.input.sulfate</th>\n",
       "      <th>primary_cleaner.input.depressant</th>\n",
       "      <th>primary_cleaner.input.feed_size</th>\n",
       "      <th>primary_cleaner.input.xanthate</th>\n",
       "      <th>primary_cleaner.state.floatbank8_a_air</th>\n",
       "      <th>primary_cleaner.state.floatbank8_a_level</th>\n",
       "      <th>primary_cleaner.state.floatbank8_b_air</th>\n",
       "      <th>primary_cleaner.state.floatbank8_b_level</th>\n",
       "      <th>primary_cleaner.state.floatbank8_c_air</th>\n",
       "      <th>...</th>\n",
       "      <th>secondary_cleaner.state.floatbank4_a_air</th>\n",
       "      <th>secondary_cleaner.state.floatbank4_a_level</th>\n",
       "      <th>secondary_cleaner.state.floatbank4_b_air</th>\n",
       "      <th>secondary_cleaner.state.floatbank4_b_level</th>\n",
       "      <th>secondary_cleaner.state.floatbank5_a_air</th>\n",
       "      <th>secondary_cleaner.state.floatbank5_a_level</th>\n",
       "      <th>secondary_cleaner.state.floatbank5_b_air</th>\n",
       "      <th>secondary_cleaner.state.floatbank5_b_level</th>\n",
       "      <th>secondary_cleaner.state.floatbank6_a_air</th>\n",
       "      <th>secondary_cleaner.state.floatbank6_a_level</th>\n",
       "    </tr>\n",
       "  </thead>\n",
       "  <tbody>\n",
       "    <tr>\n",
       "      <th>0</th>\n",
       "      <td>2016-09-01 00:59:59</td>\n",
       "      <td>210.800909</td>\n",
       "      <td>14.993118</td>\n",
       "      <td>8.080000</td>\n",
       "      <td>1.005021</td>\n",
       "      <td>1398.981301</td>\n",
       "      <td>-500.225577</td>\n",
       "      <td>1399.144926</td>\n",
       "      <td>-499.919735</td>\n",
       "      <td>1400.102998</td>\n",
       "      <td>...</td>\n",
       "      <td>12.023554</td>\n",
       "      <td>-497.795834</td>\n",
       "      <td>8.016656</td>\n",
       "      <td>-501.289139</td>\n",
       "      <td>7.946562</td>\n",
       "      <td>-432.317850</td>\n",
       "      <td>4.872511</td>\n",
       "      <td>-500.037437</td>\n",
       "      <td>26.705889</td>\n",
       "      <td>-499.709414</td>\n",
       "    </tr>\n",
       "    <tr>\n",
       "      <th>1</th>\n",
       "      <td>2016-09-01 01:59:59</td>\n",
       "      <td>215.392455</td>\n",
       "      <td>14.987471</td>\n",
       "      <td>8.080000</td>\n",
       "      <td>0.990469</td>\n",
       "      <td>1398.777912</td>\n",
       "      <td>-500.057435</td>\n",
       "      <td>1398.055362</td>\n",
       "      <td>-499.778182</td>\n",
       "      <td>1396.151033</td>\n",
       "      <td>...</td>\n",
       "      <td>12.058140</td>\n",
       "      <td>-498.695773</td>\n",
       "      <td>8.130979</td>\n",
       "      <td>-499.634209</td>\n",
       "      <td>7.958270</td>\n",
       "      <td>-525.839648</td>\n",
       "      <td>4.878850</td>\n",
       "      <td>-500.162375</td>\n",
       "      <td>25.019940</td>\n",
       "      <td>-499.819438</td>\n",
       "    </tr>\n",
       "    <tr>\n",
       "      <th>2</th>\n",
       "      <td>2016-09-01 02:59:59</td>\n",
       "      <td>215.259946</td>\n",
       "      <td>12.884934</td>\n",
       "      <td>7.786667</td>\n",
       "      <td>0.996043</td>\n",
       "      <td>1398.493666</td>\n",
       "      <td>-500.868360</td>\n",
       "      <td>1398.860436</td>\n",
       "      <td>-499.764529</td>\n",
       "      <td>1398.075709</td>\n",
       "      <td>...</td>\n",
       "      <td>11.962366</td>\n",
       "      <td>-498.767484</td>\n",
       "      <td>8.096893</td>\n",
       "      <td>-500.827423</td>\n",
       "      <td>8.071056</td>\n",
       "      <td>-500.801673</td>\n",
       "      <td>4.905125</td>\n",
       "      <td>-499.828510</td>\n",
       "      <td>24.994862</td>\n",
       "      <td>-500.622559</td>\n",
       "    </tr>\n",
       "    <tr>\n",
       "      <th>3</th>\n",
       "      <td>2016-09-01 03:59:59</td>\n",
       "      <td>215.336236</td>\n",
       "      <td>12.006805</td>\n",
       "      <td>7.640000</td>\n",
       "      <td>0.863514</td>\n",
       "      <td>1399.618111</td>\n",
       "      <td>-498.863574</td>\n",
       "      <td>1397.440120</td>\n",
       "      <td>-499.211024</td>\n",
       "      <td>1400.129303</td>\n",
       "      <td>...</td>\n",
       "      <td>12.033091</td>\n",
       "      <td>-498.350935</td>\n",
       "      <td>8.074946</td>\n",
       "      <td>-499.474407</td>\n",
       "      <td>7.897085</td>\n",
       "      <td>-500.868509</td>\n",
       "      <td>4.931400</td>\n",
       "      <td>-499.963623</td>\n",
       "      <td>24.948919</td>\n",
       "      <td>-498.709987</td>\n",
       "    </tr>\n",
       "    <tr>\n",
       "      <th>4</th>\n",
       "      <td>2016-09-01 04:59:59</td>\n",
       "      <td>199.099327</td>\n",
       "      <td>10.682530</td>\n",
       "      <td>7.530000</td>\n",
       "      <td>0.805575</td>\n",
       "      <td>1401.268123</td>\n",
       "      <td>-500.808305</td>\n",
       "      <td>1398.128818</td>\n",
       "      <td>-499.504543</td>\n",
       "      <td>1402.172226</td>\n",
       "      <td>...</td>\n",
       "      <td>12.025367</td>\n",
       "      <td>-500.786497</td>\n",
       "      <td>8.054678</td>\n",
       "      <td>-500.397500</td>\n",
       "      <td>8.107890</td>\n",
       "      <td>-509.526725</td>\n",
       "      <td>4.957674</td>\n",
       "      <td>-500.360026</td>\n",
       "      <td>25.003331</td>\n",
       "      <td>-500.856333</td>\n",
       "    </tr>\n",
       "  </tbody>\n",
       "</table>\n",
       "<p>5 rows × 53 columns</p>\n",
       "</div>"
      ],
      "text/plain": [
       "                  date  primary_cleaner.input.sulfate  \\\n",
       "0  2016-09-01 00:59:59                     210.800909   \n",
       "1  2016-09-01 01:59:59                     215.392455   \n",
       "2  2016-09-01 02:59:59                     215.259946   \n",
       "3  2016-09-01 03:59:59                     215.336236   \n",
       "4  2016-09-01 04:59:59                     199.099327   \n",
       "\n",
       "   primary_cleaner.input.depressant  primary_cleaner.input.feed_size  \\\n",
       "0                         14.993118                         8.080000   \n",
       "1                         14.987471                         8.080000   \n",
       "2                         12.884934                         7.786667   \n",
       "3                         12.006805                         7.640000   \n",
       "4                         10.682530                         7.530000   \n",
       "\n",
       "   primary_cleaner.input.xanthate  primary_cleaner.state.floatbank8_a_air  \\\n",
       "0                        1.005021                             1398.981301   \n",
       "1                        0.990469                             1398.777912   \n",
       "2                        0.996043                             1398.493666   \n",
       "3                        0.863514                             1399.618111   \n",
       "4                        0.805575                             1401.268123   \n",
       "\n",
       "   primary_cleaner.state.floatbank8_a_level  \\\n",
       "0                               -500.225577   \n",
       "1                               -500.057435   \n",
       "2                               -500.868360   \n",
       "3                               -498.863574   \n",
       "4                               -500.808305   \n",
       "\n",
       "   primary_cleaner.state.floatbank8_b_air  \\\n",
       "0                             1399.144926   \n",
       "1                             1398.055362   \n",
       "2                             1398.860436   \n",
       "3                             1397.440120   \n",
       "4                             1398.128818   \n",
       "\n",
       "   primary_cleaner.state.floatbank8_b_level  \\\n",
       "0                               -499.919735   \n",
       "1                               -499.778182   \n",
       "2                               -499.764529   \n",
       "3                               -499.211024   \n",
       "4                               -499.504543   \n",
       "\n",
       "   primary_cleaner.state.floatbank8_c_air  ...  \\\n",
       "0                             1400.102998  ...   \n",
       "1                             1396.151033  ...   \n",
       "2                             1398.075709  ...   \n",
       "3                             1400.129303  ...   \n",
       "4                             1402.172226  ...   \n",
       "\n",
       "   secondary_cleaner.state.floatbank4_a_air  \\\n",
       "0                                 12.023554   \n",
       "1                                 12.058140   \n",
       "2                                 11.962366   \n",
       "3                                 12.033091   \n",
       "4                                 12.025367   \n",
       "\n",
       "   secondary_cleaner.state.floatbank4_a_level  \\\n",
       "0                                 -497.795834   \n",
       "1                                 -498.695773   \n",
       "2                                 -498.767484   \n",
       "3                                 -498.350935   \n",
       "4                                 -500.786497   \n",
       "\n",
       "   secondary_cleaner.state.floatbank4_b_air  \\\n",
       "0                                  8.016656   \n",
       "1                                  8.130979   \n",
       "2                                  8.096893   \n",
       "3                                  8.074946   \n",
       "4                                  8.054678   \n",
       "\n",
       "   secondary_cleaner.state.floatbank4_b_level  \\\n",
       "0                                 -501.289139   \n",
       "1                                 -499.634209   \n",
       "2                                 -500.827423   \n",
       "3                                 -499.474407   \n",
       "4                                 -500.397500   \n",
       "\n",
       "   secondary_cleaner.state.floatbank5_a_air  \\\n",
       "0                                  7.946562   \n",
       "1                                  7.958270   \n",
       "2                                  8.071056   \n",
       "3                                  7.897085   \n",
       "4                                  8.107890   \n",
       "\n",
       "   secondary_cleaner.state.floatbank5_a_level  \\\n",
       "0                                 -432.317850   \n",
       "1                                 -525.839648   \n",
       "2                                 -500.801673   \n",
       "3                                 -500.868509   \n",
       "4                                 -509.526725   \n",
       "\n",
       "   secondary_cleaner.state.floatbank5_b_air  \\\n",
       "0                                  4.872511   \n",
       "1                                  4.878850   \n",
       "2                                  4.905125   \n",
       "3                                  4.931400   \n",
       "4                                  4.957674   \n",
       "\n",
       "   secondary_cleaner.state.floatbank5_b_level  \\\n",
       "0                                 -500.037437   \n",
       "1                                 -500.162375   \n",
       "2                                 -499.828510   \n",
       "3                                 -499.963623   \n",
       "4                                 -500.360026   \n",
       "\n",
       "   secondary_cleaner.state.floatbank6_a_air  \\\n",
       "0                                 26.705889   \n",
       "1                                 25.019940   \n",
       "2                                 24.994862   \n",
       "3                                 24.948919   \n",
       "4                                 25.003331   \n",
       "\n",
       "   secondary_cleaner.state.floatbank6_a_level  \n",
       "0                                 -499.709414  \n",
       "1                                 -499.819438  \n",
       "2                                 -500.622559  \n",
       "3                                 -498.709987  \n",
       "4                                 -500.856333  \n",
       "\n",
       "[5 rows x 53 columns]"
      ]
     },
     "metadata": {},
     "output_type": "display_data"
    }
   ],
   "source": [
    "overview_data(data_test)"
   ]
  },
  {
   "cell_type": "code",
   "execution_count": 7,
   "id": "4b227514",
   "metadata": {
    "scrolled": false
   },
   "outputs": [
    {
     "name": "stdout",
     "output_type": "stream",
     "text": [
      "Tamaño: (22716, 87)\n",
      "-----------\n",
      "\n",
      "Tipos de dato: \n",
      "\n",
      "float64    86\n",
      "object      1\n",
      "dtype: int64\n",
      "-----------\n",
      "\n",
      "Valores ausentes: \n",
      "                                        Count Proportion\n",
      "rougher.output.recovery                  3119     13.73%\n",
      "rougher.output.tail_ag                   2737     12.05%\n",
      "rougher.output.tail_au                   2736     12.04%\n",
      "rougher.output.tail_sol                  2736     12.04%\n",
      "rougher.input.floatbank11_xanthate       2257      9.94%\n",
      "secondary_cleaner.output.tail_sol        2215      9.75%\n",
      "final.output.recovery                    1963      8.64%\n",
      "rougher.calculation.au_pb_ratio          1627      7.16%\n",
      "primary_cleaner.input.sulfate            1609      7.08%\n",
      "primary_cleaner.input.depressant         1546      6.81%\n",
      "rougher.input.floatbank10_sulfate        1301      5.73%\n",
      "primary_cleaner.input.xanthate           1151      5.07%\n",
      "primary_cleaner.output.concentrate_sol    798      3.51%\n",
      "rougher.input.floatbank11_sulfate         678      2.98%\n",
      "rougher.state.floatbank10_e_air           620      2.73%\n",
      "rougher.input.feed_rate                   553      2.43%\n",
      "rougher.input.floatbank10_xanthate        469      2.06%\n",
      "primary_cleaner.output.concentrate_pb     448      1.97%\n",
      "rougher.input.feed_size                   439      1.93%\n",
      "final.output.concentrate_sol              385      1.69%\n",
      "-----------\n"
     ]
    },
    {
     "data": {
      "text/html": [
       "<div>\n",
       "<style scoped>\n",
       "    .dataframe tbody tr th:only-of-type {\n",
       "        vertical-align: middle;\n",
       "    }\n",
       "\n",
       "    .dataframe tbody tr th {\n",
       "        vertical-align: top;\n",
       "    }\n",
       "\n",
       "    .dataframe thead th {\n",
       "        text-align: right;\n",
       "    }\n",
       "</style>\n",
       "<table border=\"1\" class=\"dataframe\">\n",
       "  <thead>\n",
       "    <tr style=\"text-align: right;\">\n",
       "      <th></th>\n",
       "      <th>date</th>\n",
       "      <th>final.output.concentrate_ag</th>\n",
       "      <th>final.output.concentrate_pb</th>\n",
       "      <th>final.output.concentrate_sol</th>\n",
       "      <th>final.output.concentrate_au</th>\n",
       "      <th>final.output.recovery</th>\n",
       "      <th>final.output.tail_ag</th>\n",
       "      <th>final.output.tail_pb</th>\n",
       "      <th>final.output.tail_sol</th>\n",
       "      <th>final.output.tail_au</th>\n",
       "      <th>...</th>\n",
       "      <th>secondary_cleaner.state.floatbank4_a_air</th>\n",
       "      <th>secondary_cleaner.state.floatbank4_a_level</th>\n",
       "      <th>secondary_cleaner.state.floatbank4_b_air</th>\n",
       "      <th>secondary_cleaner.state.floatbank4_b_level</th>\n",
       "      <th>secondary_cleaner.state.floatbank5_a_air</th>\n",
       "      <th>secondary_cleaner.state.floatbank5_a_level</th>\n",
       "      <th>secondary_cleaner.state.floatbank5_b_air</th>\n",
       "      <th>secondary_cleaner.state.floatbank5_b_level</th>\n",
       "      <th>secondary_cleaner.state.floatbank6_a_air</th>\n",
       "      <th>secondary_cleaner.state.floatbank6_a_level</th>\n",
       "    </tr>\n",
       "  </thead>\n",
       "  <tbody>\n",
       "    <tr>\n",
       "      <th>0</th>\n",
       "      <td>2016-01-15 00:00:00</td>\n",
       "      <td>6.055403</td>\n",
       "      <td>9.889648</td>\n",
       "      <td>5.507324</td>\n",
       "      <td>42.192020</td>\n",
       "      <td>70.541216</td>\n",
       "      <td>10.411962</td>\n",
       "      <td>0.895447</td>\n",
       "      <td>16.904297</td>\n",
       "      <td>2.143149</td>\n",
       "      <td>...</td>\n",
       "      <td>14.016835</td>\n",
       "      <td>-502.488007</td>\n",
       "      <td>12.099931</td>\n",
       "      <td>-504.715942</td>\n",
       "      <td>9.925633</td>\n",
       "      <td>-498.310211</td>\n",
       "      <td>8.079666</td>\n",
       "      <td>-500.470978</td>\n",
       "      <td>14.151341</td>\n",
       "      <td>-605.841980</td>\n",
       "    </tr>\n",
       "    <tr>\n",
       "      <th>1</th>\n",
       "      <td>2016-01-15 01:00:00</td>\n",
       "      <td>6.029369</td>\n",
       "      <td>9.968944</td>\n",
       "      <td>5.257781</td>\n",
       "      <td>42.701629</td>\n",
       "      <td>69.266198</td>\n",
       "      <td>10.462676</td>\n",
       "      <td>0.927452</td>\n",
       "      <td>16.634514</td>\n",
       "      <td>2.224930</td>\n",
       "      <td>...</td>\n",
       "      <td>13.992281</td>\n",
       "      <td>-505.503262</td>\n",
       "      <td>11.950531</td>\n",
       "      <td>-501.331529</td>\n",
       "      <td>10.039245</td>\n",
       "      <td>-500.169983</td>\n",
       "      <td>7.984757</td>\n",
       "      <td>-500.582168</td>\n",
       "      <td>13.998353</td>\n",
       "      <td>-599.787184</td>\n",
       "    </tr>\n",
       "    <tr>\n",
       "      <th>2</th>\n",
       "      <td>2016-01-15 02:00:00</td>\n",
       "      <td>6.055926</td>\n",
       "      <td>10.213995</td>\n",
       "      <td>5.383759</td>\n",
       "      <td>42.657501</td>\n",
       "      <td>68.116445</td>\n",
       "      <td>10.507046</td>\n",
       "      <td>0.953716</td>\n",
       "      <td>16.208849</td>\n",
       "      <td>2.257889</td>\n",
       "      <td>...</td>\n",
       "      <td>14.015015</td>\n",
       "      <td>-502.520901</td>\n",
       "      <td>11.912783</td>\n",
       "      <td>-501.133383</td>\n",
       "      <td>10.070913</td>\n",
       "      <td>-500.129135</td>\n",
       "      <td>8.013877</td>\n",
       "      <td>-500.517572</td>\n",
       "      <td>14.028663</td>\n",
       "      <td>-601.427363</td>\n",
       "    </tr>\n",
       "    <tr>\n",
       "      <th>3</th>\n",
       "      <td>2016-01-15 03:00:00</td>\n",
       "      <td>6.047977</td>\n",
       "      <td>9.977019</td>\n",
       "      <td>4.858634</td>\n",
       "      <td>42.689819</td>\n",
       "      <td>68.347543</td>\n",
       "      <td>10.422762</td>\n",
       "      <td>0.883763</td>\n",
       "      <td>16.532835</td>\n",
       "      <td>2.146849</td>\n",
       "      <td>...</td>\n",
       "      <td>14.036510</td>\n",
       "      <td>-500.857308</td>\n",
       "      <td>11.999550</td>\n",
       "      <td>-501.193686</td>\n",
       "      <td>9.970366</td>\n",
       "      <td>-499.201640</td>\n",
       "      <td>7.977324</td>\n",
       "      <td>-500.255908</td>\n",
       "      <td>14.005551</td>\n",
       "      <td>-599.996129</td>\n",
       "    </tr>\n",
       "    <tr>\n",
       "      <th>4</th>\n",
       "      <td>2016-01-15 04:00:00</td>\n",
       "      <td>6.148599</td>\n",
       "      <td>10.142511</td>\n",
       "      <td>4.939416</td>\n",
       "      <td>42.774141</td>\n",
       "      <td>66.927016</td>\n",
       "      <td>10.360302</td>\n",
       "      <td>0.792826</td>\n",
       "      <td>16.525686</td>\n",
       "      <td>2.055292</td>\n",
       "      <td>...</td>\n",
       "      <td>14.027298</td>\n",
       "      <td>-499.838632</td>\n",
       "      <td>11.953070</td>\n",
       "      <td>-501.053894</td>\n",
       "      <td>9.925709</td>\n",
       "      <td>-501.686727</td>\n",
       "      <td>7.894242</td>\n",
       "      <td>-500.356035</td>\n",
       "      <td>13.996647</td>\n",
       "      <td>-601.496691</td>\n",
       "    </tr>\n",
       "  </tbody>\n",
       "</table>\n",
       "<p>5 rows × 87 columns</p>\n",
       "</div>"
      ],
      "text/plain": [
       "                  date  final.output.concentrate_ag  \\\n",
       "0  2016-01-15 00:00:00                     6.055403   \n",
       "1  2016-01-15 01:00:00                     6.029369   \n",
       "2  2016-01-15 02:00:00                     6.055926   \n",
       "3  2016-01-15 03:00:00                     6.047977   \n",
       "4  2016-01-15 04:00:00                     6.148599   \n",
       "\n",
       "   final.output.concentrate_pb  final.output.concentrate_sol  \\\n",
       "0                     9.889648                      5.507324   \n",
       "1                     9.968944                      5.257781   \n",
       "2                    10.213995                      5.383759   \n",
       "3                     9.977019                      4.858634   \n",
       "4                    10.142511                      4.939416   \n",
       "\n",
       "   final.output.concentrate_au  final.output.recovery  final.output.tail_ag  \\\n",
       "0                    42.192020              70.541216             10.411962   \n",
       "1                    42.701629              69.266198             10.462676   \n",
       "2                    42.657501              68.116445             10.507046   \n",
       "3                    42.689819              68.347543             10.422762   \n",
       "4                    42.774141              66.927016             10.360302   \n",
       "\n",
       "   final.output.tail_pb  final.output.tail_sol  final.output.tail_au  ...  \\\n",
       "0              0.895447              16.904297              2.143149  ...   \n",
       "1              0.927452              16.634514              2.224930  ...   \n",
       "2              0.953716              16.208849              2.257889  ...   \n",
       "3              0.883763              16.532835              2.146849  ...   \n",
       "4              0.792826              16.525686              2.055292  ...   \n",
       "\n",
       "   secondary_cleaner.state.floatbank4_a_air  \\\n",
       "0                                 14.016835   \n",
       "1                                 13.992281   \n",
       "2                                 14.015015   \n",
       "3                                 14.036510   \n",
       "4                                 14.027298   \n",
       "\n",
       "   secondary_cleaner.state.floatbank4_a_level  \\\n",
       "0                                 -502.488007   \n",
       "1                                 -505.503262   \n",
       "2                                 -502.520901   \n",
       "3                                 -500.857308   \n",
       "4                                 -499.838632   \n",
       "\n",
       "   secondary_cleaner.state.floatbank4_b_air  \\\n",
       "0                                 12.099931   \n",
       "1                                 11.950531   \n",
       "2                                 11.912783   \n",
       "3                                 11.999550   \n",
       "4                                 11.953070   \n",
       "\n",
       "   secondary_cleaner.state.floatbank4_b_level  \\\n",
       "0                                 -504.715942   \n",
       "1                                 -501.331529   \n",
       "2                                 -501.133383   \n",
       "3                                 -501.193686   \n",
       "4                                 -501.053894   \n",
       "\n",
       "   secondary_cleaner.state.floatbank5_a_air  \\\n",
       "0                                  9.925633   \n",
       "1                                 10.039245   \n",
       "2                                 10.070913   \n",
       "3                                  9.970366   \n",
       "4                                  9.925709   \n",
       "\n",
       "   secondary_cleaner.state.floatbank5_a_level  \\\n",
       "0                                 -498.310211   \n",
       "1                                 -500.169983   \n",
       "2                                 -500.129135   \n",
       "3                                 -499.201640   \n",
       "4                                 -501.686727   \n",
       "\n",
       "   secondary_cleaner.state.floatbank5_b_air  \\\n",
       "0                                  8.079666   \n",
       "1                                  7.984757   \n",
       "2                                  8.013877   \n",
       "3                                  7.977324   \n",
       "4                                  7.894242   \n",
       "\n",
       "   secondary_cleaner.state.floatbank5_b_level  \\\n",
       "0                                 -500.470978   \n",
       "1                                 -500.582168   \n",
       "2                                 -500.517572   \n",
       "3                                 -500.255908   \n",
       "4                                 -500.356035   \n",
       "\n",
       "   secondary_cleaner.state.floatbank6_a_air  \\\n",
       "0                                 14.151341   \n",
       "1                                 13.998353   \n",
       "2                                 14.028663   \n",
       "3                                 14.005551   \n",
       "4                                 13.996647   \n",
       "\n",
       "   secondary_cleaner.state.floatbank6_a_level  \n",
       "0                                 -605.841980  \n",
       "1                                 -599.787184  \n",
       "2                                 -601.427363  \n",
       "3                                 -599.996129  \n",
       "4                                 -601.496691  \n",
       "\n",
       "[5 rows x 87 columns]"
      ]
     },
     "metadata": {},
     "output_type": "display_data"
    }
   ],
   "source": [
    "overview_data(data_full)"
   ]
  },
  {
   "cell_type": "markdown",
   "id": "169809dc",
   "metadata": {},
   "source": [
    "**Observaciones**\n",
    "\n",
    "Podemos observar como en los tres conjuntos de datos tenemos la presencia de valores ausentes, notamos también que el conjunto de datos de prueba cuenta con menos columnas que el conjunto de entrenamiento y completo. Con excepción de la columna `date` el resto son de tipo *float*."
   ]
  },
  {
   "cell_type": "markdown",
   "id": "01c1ef57",
   "metadata": {},
   "source": [
    "## <a id='toc1_4_'></a>[Exploración de los datos](#toc0_)"
   ]
  },
  {
   "cell_type": "markdown",
   "id": "e68842db",
   "metadata": {},
   "source": [
    "### <a id='toc1_4_1_'></a>[Cálculo de recuperación y EAM](#toc0_)"
   ]
  },
  {
   "cell_type": "markdown",
   "id": "a0183cbb",
   "metadata": {},
   "source": [
    "Comprobaremos que el cálculo de la recuperación sea correcto."
   ]
  },
  {
   "cell_type": "markdown",
   "id": "355afea4",
   "metadata": {},
   "source": [
    "$$\n",
    "Recuperación = \\frac{C \\times (F-T)}{F \\times (C-T)} \\times 100\\%\n",
    "$$"
   ]
  },
  {
   "cell_type": "markdown",
   "id": "e28bc742",
   "metadata": {},
   "source": [
    "> * <small>C — proporción de oro en el concentrado justo después de la flotación (para saber la recuperación del concentrado >rougher)/después de la purificación (para saber la recuperación del concentrado final)</small>\n",
    "> * <small>F — la proporción de oro en la alimentación antes de la flotación (para saber la recuperación del concentrado rougher)/en el concentrado justo después de la flotación (para saber la recuperación del concentrado final)</small>\n",
    "> * <small>T — la proporción de oro en las colas rougher justo después de la flotación (para saber la recuperación del concentrado rougher)/después de la purificación (para saber la recuperación del concentrado final)</small>"
   ]
  },
  {
   "cell_type": "code",
   "execution_count": 8,
   "id": "c305b6c3",
   "metadata": {},
   "outputs": [],
   "source": [
    "C = data_train['rougher.output.concentrate_au']\n",
    "F = data_train['rougher.input.feed_au']\n",
    "T = data_train['rougher.output.tail_au']"
   ]
  },
  {
   "cell_type": "code",
   "execution_count": 9,
   "id": "429ea4e5",
   "metadata": {},
   "outputs": [],
   "source": [
    "calc_rougher_recovery = (C * (F-T)) / (F * (C-T)) * 100"
   ]
  },
  {
   "cell_type": "code",
   "execution_count": 10,
   "id": "52bc6aa0",
   "metadata": {},
   "outputs": [],
   "source": [
    "rougher_recovery = data_train['rougher.output.recovery']"
   ]
  },
  {
   "cell_type": "markdown",
   "id": "23065bf2",
   "metadata": {},
   "source": [
    "*EAM*"
   ]
  },
  {
   "cell_type": "markdown",
   "id": "5e67a150",
   "metadata": {},
   "source": [
    "$$\n",
    "MAE = \\frac{1}{n} \\sum_{j=1}^{n} |y_j - \\hat{y}_j|\n",
    "$$"
   ]
  },
  {
   "cell_type": "code",
   "execution_count": 11,
   "id": "d56493dd",
   "metadata": {},
   "outputs": [
    {
     "data": {
      "text/plain": [
       "9.303415616264301e-15"
      ]
     },
     "execution_count": 11,
     "metadata": {},
     "output_type": "execute_result"
    }
   ],
   "source": [
    "(calc_rougher_recovery - rougher_recovery).abs().mean()"
   ]
  },
  {
   "cell_type": "markdown",
   "id": "788f72fd",
   "metadata": {},
   "source": [
    "**Observaciones**\n",
    "\n",
    "Como resultado de la comparativa de la característica en nuestro conjunto respecto al calculo realizado tenemos un *EAM* de **9.3e-15**, un número sumamente pequeño que nos indica que nuestro cálculo es bastante cercano al de la característica. "
   ]
  },
  {
   "cell_type": "markdown",
   "id": "2b5bea1e",
   "metadata": {},
   "source": [
    "### <a id='toc1_4_2_'></a>[Caracteristicas no disponibles en el conjunto de prueba](#toc0_)"
   ]
  },
  {
   "cell_type": "markdown",
   "id": "f5bbb1a7",
   "metadata": {},
   "source": [
    "Analicemos las características no disponibles en el conjunto de prueba."
   ]
  },
  {
   "cell_type": "code",
   "execution_count": 12,
   "id": "ce10d77d",
   "metadata": {},
   "outputs": [
    {
     "name": "stdout",
     "output_type": "stream",
     "text": [
      "34\n"
     ]
    },
    {
     "data": {
      "text/plain": [
       "Index(['secondary_cleaner.output.tail_sol', 'secondary_cleaner.output.tail_pb',\n",
       "       'secondary_cleaner.output.tail_au', 'secondary_cleaner.output.tail_ag',\n",
       "       'rougher.output.tail_sol', 'rougher.output.tail_pb',\n",
       "       'rougher.output.tail_au', 'rougher.output.tail_ag',\n",
       "       'rougher.output.recovery', 'rougher.output.concentrate_sol',\n",
       "       'rougher.output.concentrate_pb', 'rougher.output.concentrate_au',\n",
       "       'rougher.output.concentrate_ag',\n",
       "       'rougher.calculation.sulfate_to_au_concentrate',\n",
       "       'rougher.calculation.floatbank11_sulfate_to_au_feed',\n",
       "       'rougher.calculation.floatbank10_sulfate_to_au_feed',\n",
       "       'rougher.calculation.au_pb_ratio', 'primary_cleaner.output.tail_sol',\n",
       "       'primary_cleaner.output.tail_pb', 'primary_cleaner.output.tail_au',\n",
       "       'primary_cleaner.output.tail_ag',\n",
       "       'primary_cleaner.output.concentrate_sol',\n",
       "       'primary_cleaner.output.concentrate_pb',\n",
       "       'primary_cleaner.output.concentrate_au',\n",
       "       'primary_cleaner.output.concentrate_ag', 'final.output.tail_sol',\n",
       "       'final.output.tail_pb', 'final.output.tail_au', 'final.output.tail_ag',\n",
       "       'final.output.recovery', 'final.output.concentrate_sol',\n",
       "       'final.output.concentrate_pb', 'final.output.concentrate_au',\n",
       "       'final.output.concentrate_ag'],\n",
       "      dtype='object')"
      ]
     },
     "execution_count": 12,
     "metadata": {},
     "output_type": "execute_result"
    }
   ],
   "source": [
    "cols_tests_unavailable = data_train.columns.difference(data_test.columns)\n",
    "print(cols_tests_unavailable.size)\n",
    "cols_tests_unavailable.sort_values(ascending=False)"
   ]
  },
  {
   "cell_type": "code",
   "execution_count": 13,
   "id": "1e5294b5",
   "metadata": {},
   "outputs": [
    {
     "data": {
      "text/plain": [
       "float64    34\n",
       "dtype: int64"
      ]
     },
     "execution_count": 13,
     "metadata": {},
     "output_type": "execute_result"
    }
   ],
   "source": [
    "data_train[cols_tests_unavailable].dtypes.value_counts()"
   ]
  },
  {
   "cell_type": "markdown",
   "id": "ab25e3fd",
   "metadata": {},
   "source": [
    "**Observaciones**\n",
    "\n",
    "Podemos notar como las columnas no disponibles en el conjunto de prueba que si están en el de entrenamiento son aquellas que son referencia al tipo de parámetro *output* o *calculation*, puede deberse a ser mediciones o cálculos realizados posteriormente."
   ]
  },
  {
   "cell_type": "markdown",
   "id": "05201093",
   "metadata": {},
   "source": [
    "### <a id='toc1_4_3_'></a>[Preprocesamiento de datos](#toc0_)"
   ]
  },
  {
   "cell_type": "markdown",
   "id": "4e44e485",
   "metadata": {},
   "source": [
    "Observando el porcentaje de valores ausentes y el tamaño de nuestros conjuntos, tomaremos el camino de descartar los valores ausentes, la intención es utilizar solo valores existentes, sin intentar hacer imputaciones que puedan extender errores en nuestro modelo."
   ]
  },
  {
   "cell_type": "code",
   "execution_count": 14,
   "id": "6bdac616",
   "metadata": {},
   "outputs": [],
   "source": [
    "data_train = data_train.dropna(how='any')\n",
    "data_test = data_test.dropna(how='any')\n",
    "data_full = data_full.dropna(how='any')"
   ]
  },
  {
   "cell_type": "code",
   "execution_count": 15,
   "id": "a9986624",
   "metadata": {},
   "outputs": [
    {
     "name": "stdout",
     "output_type": "stream",
     "text": [
      "train: (11017, 87)\n",
      "test: (5383, 53)\n",
      "full: (16094, 87)\n"
     ]
    }
   ],
   "source": [
    "print('train:', data_train.shape)\n",
    "print('test:', data_test.shape)\n",
    "print('full:', data_full.shape)"
   ]
  },
  {
   "cell_type": "code",
   "execution_count": 16,
   "id": "8805b504",
   "metadata": {},
   "outputs": [
    {
     "data": {
      "text/plain": [
       "0"
      ]
     },
     "execution_count": 16,
     "metadata": {},
     "output_type": "execute_result"
    }
   ],
   "source": [
    "data_train.isna().sum().sum()"
   ]
  },
  {
   "cell_type": "markdown",
   "id": "471fdc7e",
   "metadata": {},
   "source": [
    "### <a id='toc1_4_4_'></a>[Analizando los datos](#toc0_)"
   ]
  },
  {
   "cell_type": "markdown",
   "id": "24ad2c96",
   "metadata": {},
   "source": [
    "**Cambio de concentración de metales en cada etapa de purificación**"
   ]
  },
  {
   "cell_type": "markdown",
   "id": "0e294ef7",
   "metadata": {},
   "source": [
    "Observa cómo cambia la concentración de metales (Au, Ag, Pb) en función de la etapa de purificación."
   ]
  },
  {
   "cell_type": "code",
   "execution_count": 17,
   "id": "87ac860e",
   "metadata": {},
   "outputs": [],
   "source": [
    "steps = ['rougher.input.feed_','rougher.output.concentrate_','primary_cleaner.output.concentrate_',\n",
    "         'final.output.concentrate_']\n",
    "metals = [\"au\",\"ag\",\"pb\", \"sol\"]"
   ]
  },
  {
   "cell_type": "code",
   "execution_count": 18,
   "id": "492d8ad9",
   "metadata": {},
   "outputs": [
    {
     "data": {
      "image/png": "[encoded data removed]",
      "text/plain": [
       "<Figure size 800x1600 with 4 Axes>"
      ]
     },
     "metadata": {},
     "output_type": "display_data"
    }
   ],
   "source": [
    "fig, ax = plt.subplots(4, 1, figsize=(8, 16))\n",
    "for i, m in enumerate(metals):\n",
    "    for s in steps:\n",
    "        variable = s+m\n",
    "        ax[i].hist(data_full[variable], alpha=0.5, bins=40, label=variable)\n",
    "    ax[i].legend()\n",
    "    ax[i].set_title(f\"Concentración de {m.capitalize()}\")\n",
    "    ax[i].set_ylabel(\"Concentración\")"
   ]
  },
  {
   "cell_type": "markdown",
   "id": "7f1855d5",
   "metadata": {},
   "source": [
    "**Observaciones**\n",
    "\n",
    "Podemos observar como a lo largo de las diferentes etapas es `Au` que etapa con etapa incrementa su concentración, caso contrario de `Ag` y `Sol` que tiende a disminuir, solo siendo `Pb` que en la penúltima y última etapa se mantiene de forma muy similar su concentración, se observan en todos los metales observaciones en cuya concentración es cercana a cero, presente en casi todas las etapas."
   ]
  },
  {
   "cell_type": "markdown",
   "id": "18b9758a",
   "metadata": {},
   "source": [
    "**Confirmando distribución de rougher.input.feed_size en el conjunto de prueba y entrenamiento**"
   ]
  },
  {
   "cell_type": "markdown",
   "id": "b071c5a1",
   "metadata": {},
   "source": [
    "Comparemos las distribuciones del *tamaño de las partículas de la alimentación* en el conjunto de *entrenamiento* y en el conjunto de *prueba* ya que si las distribuciones varían significativamente, la evaluación del modelo no será correcta."
   ]
  },
  {
   "cell_type": "code",
   "execution_count": 19,
   "id": "d81bd43e",
   "metadata": {},
   "outputs": [
    {
     "data": {
      "image/png": "[encoded data removed]",
      "text/plain": [
       "<Figure size 1000x400 with 2 Axes>"
      ]
     },
     "metadata": {},
     "output_type": "display_data"
    }
   ],
   "source": [
    "input_feed = 'rougher.input.feed_size'\n",
    "fig, ax = plt.subplots(1,2, figsize=(10, 4))\n",
    "data_train[input_feed].plot.kde(ax=ax[0], label='Entrenamiento')\n",
    "data_test[input_feed].plot.kde(ax=ax[0], label='Prueba')\n",
    "data_train[input_feed].plot.kde(ax=ax[1], label='Entrenamiento')\n",
    "data_test[input_feed].plot.kde(ax=ax[1], label='Prueba')\n",
    "ax[1].set_xlim(0, 250) # Acercamiento de limites en X\n",
    "ax[0].grid()\n",
    "ax[1].grid()\n",
    "ax[0].legend()\n",
    "ax[1].legend()\n",
    "fig.suptitle(f'Comparativa de \"{input_feed}\" entre el conjunto de entrenamiento y prueba')\n",
    "fig.show()"
   ]
  },
  {
   "cell_type": "markdown",
   "id": "ca5c8e6b",
   "metadata": {},
   "source": [
    "**Observaciones**\n",
    "\n",
    "En el gráfico anterior podemos comparar la distribución de `rougher.input.feed_size`tanto en el conjunto de prueba como de entrenamiento, podemos observar como la distribución no varia de forma significativa, en el plot del lado derecho observamos de forma más cercana la distribución notando que la variación es ciertamente poca."
   ]
  },
  {
   "cell_type": "markdown",
   "id": "808bde28",
   "metadata": {},
   "source": [
    "**Revisando las concentraciones totales**"
   ]
  },
  {
   "cell_type": "markdown",
   "id": "2203ba80",
   "metadata": {},
   "source": [
    "Consideraremos ahora las concentraciones totales de todas las sustancias en las diferentes etapas: materia prima, concentrado rougher y concentrado final para ver si encontramos algún valor anormal en la distribución de estas."
   ]
  },
  {
   "cell_type": "code",
   "execution_count": 20,
   "id": "4127bfe5",
   "metadata": {},
   "outputs": [],
   "source": [
    "rougher_input_feed = [f'rougher.input.feed_{x}' for x in metals] # materia prima\n",
    "rougher_output_concentrate = [f'rougher.output.concentrate_{x}' for x in metals] # concentrado rougher\n",
    "final_output_concentrate = [f'final.output.concentrate_{x}' for x in metals] # concentrado final"
   ]
  },
  {
   "cell_type": "code",
   "execution_count": 21,
   "id": "6dd8453a",
   "metadata": {
    "scrolled": false
   },
   "outputs": [],
   "source": [
    "conc_totals = pd.DataFrame(\n",
    "                    {\n",
    "                        'rougher_input_feed': data_full[rougher_input_feed].sum(axis=1),\n",
    "                        'rougher_output_concentrate': data_full[rougher_output_concentrate].sum(axis=1),\n",
    "                        'final_output_concentrate': data_full[final_output_concentrate].sum(axis=1)\n",
    "                    }\n",
    "                )"
   ]
  },
  {
   "cell_type": "code",
   "execution_count": 22,
   "id": "62e5f9cd",
   "metadata": {},
   "outputs": [
    {
     "data": {
      "image/png": "[encoded data removed]",
      "text/plain": [
       "<Figure size 1500x600 with 2 Axes>"
      ]
     },
     "metadata": {},
     "output_type": "display_data"
    }
   ],
   "source": [
    "fig, ax = plt.subplots(1, 2, figsize=(15, 6))\n",
    "for col in conc_totals.columns:\n",
    "    conc_totals[col].plot.kde(label=col, ax=ax[0])\n",
    "ax[0].grid()\n",
    "ax[0].legend()\n",
    "conc_totals.melt(value_vars=conc_totals.columns).rename(columns={'variable' : 'materiales'})\\\n",
    "        .boxplot(by='materiales', ax=ax[1])\n",
    "fig.suptitle(f'Distribución de concentraciones totales')\n",
    "fig.show()"
   ]
  },
  {
   "cell_type": "markdown",
   "id": "2da1f9b3",
   "metadata": {},
   "source": [
    "**Observaciones**\n",
    "\n",
    "Con los gráficos anteriores podemos observar como en las tres etapas si se tienen valores atípicos, observando en el gráfico de la izquierda la distribución que muestra un pequeño pico en los valores cercanos a cero, con el fin de tener la mayor cantidad de valores consistentes, empelaremos una técnica para descartar aquellas observaciones que se encuentren debajo del limite de 10%. Aprovecharemos para incluir en el conjunto de prueba las características y variables objetivo que no tenemos disponibles obteniéndolas del conjunto con los datos completos."
   ]
  },
  {
   "cell_type": "code",
   "execution_count": 23,
   "id": "d5c35a8a",
   "metadata": {
    "scrolled": false
   },
   "outputs": [],
   "source": [
    "lim = 10 # Limite mínimo\n",
    "data_train_clean = data_train[\n",
    "    (data_train[rougher_input_feed].sum(axis=1) > lim) &\n",
    "    (data_train[rougher_output_concentrate].sum(axis=1) > lim) &\n",
    "    (data_train[final_output_concentrate].sum(axis=1) > lim)\n",
    "].copy()\n",
    "\n",
    "# Para utilizar variables de `full` no disponibles en `test`\n",
    "data_full_test = data_full[data_full['date'].isin(data_test['date'])].reset_index(drop=True)\n",
    "\n",
    "# Nos quedamos solo las columnas faltantes en test\n",
    "data_full_test = data_full_test[['date']+cols_tests_unavailable.to_list()]\n",
    "\n",
    "# Unimos con `test` utilizando la misma fecha\n",
    "data_test_clean = data_test.merge(data_full_test, on='date', how='left')\n",
    "\n",
    "data_test_clean = data_test_clean[\n",
    "    (data_test_clean[rougher_input_feed].sum(axis=1) > lim) &\n",
    "    (data_test_clean[rougher_output_concentrate].sum(axis=1) > lim) &\n",
    "    (data_test_clean[final_output_concentrate].sum(axis=1) > lim)\n",
    "][data_train_clean.columns.values].copy()"
   ]
  },
  {
   "cell_type": "code",
   "execution_count": null,
   "id": "6c4f915a",
   "metadata": {},
   "outputs": [],
   "source": [
    "data_train_clean.shape"
   ]
  },
  {
   "cell_type": "code",
   "execution_count": 24,
   "id": "745eed7c",
   "metadata": {},
   "outputs": [
    {
     "data": {
      "text/plain": [
       "(4969, 87)"
      ]
     },
     "execution_count": 24,
     "metadata": {},
     "output_type": "execute_result"
    }
   ],
   "source": [
    "data_test_clean.shape"
   ]
  },
  {
   "cell_type": "markdown",
   "id": "80a88347",
   "metadata": {},
   "source": [
    "**Observaciones**\n",
    "\n",
    "Considerando el tamaño inicial que tenía nuestro conjunto de entrenamiento que era de `16860`, hemos tenido una reducción considerable, sin embargo los datos descartados nos ayudarán a tener un conjunto consistente que ayudará a un mejor entrenamiento de nuestro modelo."
   ]
  },
  {
   "cell_type": "markdown",
   "id": "080aa1e4",
   "metadata": {},
   "source": [
    "## <a id='toc1_5_'></a>[Construyendo el modelo](#toc0_)"
   ]
  },
  {
   "cell_type": "markdown",
   "id": "8a49053c",
   "metadata": {},
   "source": [
    "Nuestra métrica con la que determinaremos la eficiencia de nuestro modelo es *sMAPE*, expresada de la siguiente forma, considerando que tenemos dos variables objetivo que debemos obtener, una vez obtenido el *sMAPE* obtendremos la métrica final, el *sMAPE final*."
   ]
  },
  {
   "cell_type": "markdown",
   "id": "ef352088",
   "metadata": {},
   "source": [
    "Necesitamos predecir dos valores:\n",
    "1. La recuperación del concentrado rougher `rougher.output.recovery`.\n",
    "2. La recuperación final del concentrado `final.output.recovery`."
   ]
  },
  {
   "cell_type": "markdown",
   "id": "d75a58bb",
   "metadata": {},
   "source": [
    "$$\n",
    "\\text{sMAPE} = \\frac{1}{N} \\sum_{i=1}^{N} \\frac{|y_i - \\hat{y}_i|}{(|y_i| + |\\hat{y}_i|)/2} \\times 100\\%\n",
    "$$"
   ]
  },
  {
   "cell_type": "markdown",
   "id": "5af05bec",
   "metadata": {},
   "source": [
    "$$\n",
    "\\text{sMAPE final} = 25\\% \\times \\text{sMAPE}{\\text{(rougher)}} + 75\\% \\times \\text{sMAPE}{\\text{(final)}}\n",
    "$$"
   ]
  },
  {
   "cell_type": "code",
   "execution_count": null,
   "id": "0908155d",
   "metadata": {},
   "outputs": [],
   "source": [
    "def smape(y_true, y_pred):\n",
    "    return np.mean( np.abs(y_pred - y_true) / ((np.abs(y_pred) + np.abs(y_true))/2)) * 100"
   ]
  },
  {
   "cell_type": "code",
   "execution_count": null,
   "id": "efe71221",
   "metadata": {},
   "outputs": [],
   "source": [
    "def final_smape(y_true, y_pred):\n",
    "    rougher_true = y_true.iloc[::,0].reset_index(drop=True)\n",
    "    final_true = y_true.iloc[::,1].reset_index(drop=True)\n",
    "    rougher_pred = pd.DataFrame(y_pred).iloc[::,0]\n",
    "    final_pred = pd.DataFrame(y_pred).iloc[::,1]\n",
    "    \n",
    "    smape_rougher = smape(rougher_true, rougher_pred)\n",
    "    smape_final = smape(final_true, final_pred)\n",
    "    return (0.25 * smape_rougher) + (0.75 * smape_final)"
   ]
  },
  {
   "cell_type": "code",
   "execution_count": null,
   "id": "951a6a66",
   "metadata": {},
   "outputs": [],
   "source": [
    "def final_smape_s(y_true, y_pred):\n",
    "    rougher_true = y_true.iloc[:,0]\n",
    "    final_true = y_true.iloc[:,1]\n",
    "    rougher_pred = pd.DataFrame(y_pred).iloc[:,0]\n",
    "    final_pred = pd.DataFrame(y_pred).iloc[:,1]\n",
    "    \n",
    "    smape_rougher = smape(rougher_true, rougher_pred)\n",
    "    smape_final = smape(final_true, final_pred)\n",
    "    return (0.25 * smape_rougher) + (0.75 * smape_final)"
   ]
  },
  {
   "cell_type": "code",
   "execution_count": null,
   "id": "80fcee72",
   "metadata": {},
   "outputs": [],
   "source": [
    "# Estableciendo nuestra métrica para la validación cruzada\n",
    "smape_scorer = make_scorer(final_smape, greater_is_better=False)"
   ]
  },
  {
   "cell_type": "code",
   "execution_count": null,
   "id": "3557bdff",
   "metadata": {},
   "outputs": [],
   "source": [
    "def validate_model(model, X, y):\n",
    "    return np.abs(np.mean(cross_val_score(model, X, y, scoring=smape_scorer)))"
   ]
  },
  {
   "cell_type": "markdown",
   "id": "aa4a7c73",
   "metadata": {},
   "source": [
    "**Entrenando diferentes modelos**\n",
    "\n",
    "Cada modelo será evaluado aplicando la validación cruzada. Al final determinaremos el más optimo según nuestra métrica."
   ]
  },
  {
   "cell_type": "code",
   "execution_count": null,
   "id": "2d1b0e5b",
   "metadata": {},
   "outputs": [],
   "source": [
    "# Separamos nuestras características y variables objetivo.\n",
    "features_train = data_train_clean.drop(columns=['date', 'rougher.output.recovery', 'final.output.recovery'])\n",
    "target_train = data_train_clean[['rougher.output.recovery', 'final.output.recovery']]\n",
    "\n",
    "features_test = data_test_clean.drop(columns=['date', 'rougher.output.recovery', 'final.output.recovery'])\n",
    "target_test = data_test_clean[['rougher.output.recovery', 'final.output.recovery']]"
   ]
  },
  {
   "cell_type": "code",
   "execution_count": null,
   "id": "bf31592b",
   "metadata": {},
   "outputs": [],
   "source": [
    "scaler = StandardScaler()\n",
    "scaler.fit(features_train)\n",
    "\n",
    "features_train = scaler.transform(features_train)\n",
    "features_test = scaler.transform(features_test)"
   ]
  },
  {
   "cell_type": "code",
   "execution_count": null,
   "id": "78ce39a0",
   "metadata": {
    "scrolled": false
   },
   "outputs": [],
   "source": [
    "%%time\n",
    "state = np.random.RandomState(RANDOM_STATE)\n",
    "for depth in range(5, 11, 1):\n",
    "    model = DecisionTreeRegressor(max_depth=depth, random_state=state)\n",
    "    model.fit(features_train, target_train)\n",
    "    final_smape_score = validate_model(model, features_train, target_train)\n",
    "    print(\"max_depth =\", depth, \":\", final_smape_score)"
   ]
  },
  {
   "cell_type": "code",
   "execution_count": null,
   "id": "ce5b985b",
   "metadata": {},
   "outputs": [],
   "source": [
    "%%time\n",
    "state = np.random.RandomState(RANDOM_STATE)\n",
    "for estimators in [10, 20]:\n",
    "    model = RandomForestRegressor(n_estimators=estimators, random_state=state)\n",
    "    model.fit(features_train, target_train)\n",
    "    final_smape_score = validate_model(model, features_train, target_train)\n",
    "    print(\"n_estimators =\", estimators, \":\", final_smape_score)"
   ]
  },
  {
   "cell_type": "markdown",
   "id": "424c343f",
   "metadata": {},
   "source": [
    "**Conclusiones**\n",
    "\n",
    "Tras evaluar dos diferentes modelos, ambos basados en árboles, determinamos que el modelo que obtiene un mejor *final sMAPE* es el modelo de `RandomForestRegressor`, con un *n_estimators* de 20."
   ]
  },
  {
   "cell_type": "markdown",
   "id": "68362add",
   "metadata": {},
   "source": [
    "### <a id='toc1_5_1_'></a>[Evaluando modelo final](#toc0_)\n",
    "\n",
    "Entrenemos nuestro mejor modelo y probemos con nuestro conjunto de prueba."
   ]
  },
  {
   "cell_type": "code",
   "execution_count": null,
   "id": "f36f91ac",
   "metadata": {},
   "outputs": [],
   "source": [
    "%%time\n",
    "model = RandomForestRegressor(n_estimators=20, random_state=RANDOM_STATE)\n",
    "model.fit(features_train, target_train)\n",
    "preds = model.predict(features_test)"
   ]
  },
  {
   "cell_type": "code",
   "execution_count": null,
   "id": "7bf95747",
   "metadata": {},
   "outputs": [],
   "source": [
    "final_smape(target_test, preds)"
   ]
  },
  {
   "cell_type": "markdown",
   "id": "57af7163",
   "metadata": {},
   "source": [
    "**Conclusiones**\n",
    "\n",
    "Nuestro *sMAPE final* con nuestro modelo más óptimo es de **1.78**. "
   ]
  },
  {
   "cell_type": "markdown",
   "id": "9a6f00e9",
   "metadata": {},
   "source": [
    "**Prueba de cordura**\n",
    "\n",
    "Por último visualicemos si nuestro modelo tendría una puntuación mejor que un modelo que simplemente obtenga la media para cada observación."
   ]
  },
  {
   "cell_type": "code",
   "execution_count": null,
   "id": "b1e5674e",
   "metadata": {},
   "outputs": [],
   "source": [
    "random_predicts = [[target_test.mean()[0], target_test.mean()[1]]]*len(target_test)"
   ]
  },
  {
   "cell_type": "code",
   "execution_count": null,
   "id": "d70e0a90",
   "metadata": {},
   "outputs": [],
   "source": [
    "final_smape(target_test, random_predicts)"
   ]
  },
  {
   "cell_type": "markdown",
   "id": "2bc02783",
   "metadata": {},
   "source": [
    "El *sMAPE final* de un modelo cuyas predicciones sea siempre la media, obtiene una puntuación de **6.42**, por lo que podemos determinarque neustro modelo es mejor que simplemente completar con la media."
   ]
  },
  {
   "cell_type": "markdown",
   "id": "18690829",
   "metadata": {},
   "source": [
    "## <a id='toc1_6_'></a>[Conclusiones finales](#toc0_)"
   ]
  },
  {
   "cell_type": "markdown",
   "id": "abee48b0",
   "metadata": {},
   "source": [
    "**Exploración de datos**\n",
    "\n",
    "Explorando nuestros conjuntos de datos determinamos el tipo de dato, cantidad de columnas y la existencia de valores ausentes en cada uno. Debido a la cantidad de valores totales y el porcentaje que representaban los valores ausentes se optó por simplemente descartar los valores para mantener solo valores consistentes. Se hizo una comprobación del *cálculo de recuperación*.\n",
    "\n",
    "**Análisis de datos**\n",
    "\n",
    "En la exploración de nuestros datos observamos como en nuestro conjunto de prueba faltaban algunas columnas, esto lo consideramos para poder incluir las características faltantes además de las variables objetivo. Observamos la concentración de metales en cada etapa, pudiendo observar como era el oro el único metal cuya concentración crecía con cada etapa. También validamos las distribuciones del tamaño de las partículas de la alimentación, tanto para el conjunto de pruebas como entrenamiento, para poder determinar si estos valores eran confiables, ya que de ser diferente la distribución tendríamos problemas con nuestro modelo. Por último visualizamos las concentraciones totales de todas las sustancias en las diferentes etapas, para poder encontrar alguna anomalía.\n",
    "\n",
    "**Procesamiento de datos**\n",
    "\n",
    "Además de la eliminación de valores ausentes, eliminamos aquellas observaciones cuya sumatoria total de los metales estuviera por debajo de *10*, esto derivado de observar las concentraciones totales de todas las sustancias y observar este umbral. Por último añadimos las columnas faltantes en nuestro modelo de prueba, columnas obtenidas del conjunto con los valores totales.\n",
    "\n",
    "**Entrenamiento de modelo**\n",
    "\n",
    "Entrenamos dos modelos diferentes, el primero siendo `DecisionTreeRegressor` obteniendo un *sMAPE final* promedio de 3.8, y un segundo modelo de `RandomForestRegressor` con un *sMAPE final* promedio de 2.3, la puntuación en estas pruebas fue el promedio de la validación cruzada con el que se evaluó cada modelo. Por último simulamos un modelo que en cada predicción devolviera el valor medio, obteniendo un *sMAPE final* de 6.42. Con esto construimos nuestro mejor modelo con `RandomForestRegressor` obteniendo un *sMAPE final* de 1.78, concluyendo que nuestro modelo es mejor que solo regresar la media."
   ]
  }
 ],
 "metadata": {
  "kernelspec": {
   "display_name": "Python 3 (ipykernel)",
   "language": "python",
   "name": "python3"
  },
  "language_info": {
   "codemirror_mode": {
    "name": "ipython",
    "version": 3
   },
   "file_extension": ".py",
   "mimetype": "text/x-python",
   "name": "python",
   "nbconvert_exporter": "python",
   "pygments_lexer": "ipython3",
   "version": "3.7.17"
  }
 },
 "nbformat": 4,
 "nbformat_minor": 5
}
